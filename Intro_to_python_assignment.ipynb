{
 "cells": [
  {
   "cell_type": "markdown",
   "id": "5cd57bc3-bf0c-446d-b5e8-45ce0b39b0c0",
   "metadata": {},
   "source": [
    "1.What is Python, and why is it popular.\n",
    "Python is a programming language which is used for giving instructions to machines. It helps in to communicate with system. It is popular because       of its vast number of libraries, active community, simplicity, and for many applications like machine learning, artificial intelligence.\n",
    "\n",
    "2.What is an interpreter in Python\n",
    "An interpreter is basically executes are code line by line and convert it into machines understandable form.\n",
    "\n",
    "3.What are pre-defined keywords in Python\n",
    "Predefined keywords are the reserved keywords in python that have some special meaning. Ex: for, while, if, break, continue etc.\n",
    "\n",
    "4.Can keywords be used as variable names\n",
    "No, python keywords are not use for variables, they have special use case.\n",
    "\n",
    "5.What is mutability in Python.\n",
    "Mutability refers to that the object can be change after they created. For example list item can be update after it created.\n",
    "\n",
    "6.Why are lists mutable, but tuples are immutable.\n",
    "List are mutable which allows dynamic modification in list. List can be used where frequent updation is required. Tuple are immutable, provide stability. Tuple can be used where there is no need of dynamic updation.\n",
    "\n",
    "7.What is the difference between “==” and “is” operators in Python\n",
    "\"==\" it checks the value is weather equal or not.\n",
    "\"is\" checks that the two variables have same memory address in memory.\n",
    "\n",
    "8.What are logical operators in Python\n",
    "Logical operator in python is basically used for combining two conditions.\n",
    "And operators - Return true when both conditions are true.\n",
    "Or operator - Return true when one condition is true.\n",
    "Not operator - Return true is the condition is false.\n",
    "\n",
    "9.What is type casting in Python\n",
    "Types casting is the process of converting one data type to another data type.\n",
    "\n",
    "10.What is the difference between implicit and explicit type casting.\n",
    "Implicit conversion is basically in which interpreter automatically convert one data type to another.\n",
    "Explicit conversion in which programmer convert data type to another data type.\n",
    "\n",
    "11.What is the purpose of conditional statements in Python.\n",
    "Conditional statements in python is uses to execute the block on the basis of a condition.\n",
    "\n",
    "12.How does the elif statement work.\n",
    "Elif in python is equivalent to else if. It basically allows programmer to check multiple conditions. It execute only when the condition is true.\n",
    "\n",
    "13.What is the difference between for and while loops.\n",
    "For loop itereate over a sequence like tuple, list, range etc.\n",
    "While loop execute as long as condition is true.\n",
    "\n",
    "14.Describe a scenario where a while loop is more suitable than a for loop.\n",
    "While loop is more suitable where when the number of iterations are not pre determined like user input."
   ]
  },
  {
   "cell_type": "code",
   "execution_count": 3,
   "id": "d288ff17-eb24-407c-85fc-ece0281f7b28",
   "metadata": {},
   "outputs": [
    {
     "name": "stdout",
     "output_type": "stream",
     "text": [
      "Hello, World!\n"
     ]
    }
   ],
   "source": [
    "#1. Write a Python program to print \"Hello, World!\n",
    "print(\"Hello, World!\")"
   ]
  },
  {
   "cell_type": "code",
   "execution_count": 8,
   "id": "7e888f41-b74f-46d1-8cab-485bf8aec0d1",
   "metadata": {},
   "outputs": [
    {
     "name": "stdin",
     "output_type": "stream",
     "text": [
      "Enter your name Shabab\n",
      "Enter your age 11\n"
     ]
    },
    {
     "name": "stdout",
     "output_type": "stream",
     "text": [
      "Your name is  Shabab and your age is 11\n"
     ]
    }
   ],
   "source": [
    "#2. Write a Python program that displays your name and age\n",
    "name = input(\"Enter your name\")\n",
    "age = int(input(\"Enter your age\"))\n",
    "print(\"Your name is\",name,\"and your age is\",age)"
   ]
  },
  {
   "cell_type": "code",
   "execution_count": 11,
   "id": "3bf3e4e2-51bd-4d3a-84d8-677ab30f7c4f",
   "metadata": {},
   "outputs": [
    {
     "name": "stdout",
     "output_type": "stream",
     "text": [
      "False None True and as assert async await break class continue def del elif else except finally for from global if import in is lambda nonlocal not or pass raise return try while with yield "
     ]
    }
   ],
   "source": [
    "# 3 .Write code to print all the pre-defined keywords in Python using the keyword library\n",
    "import keyword\n",
    "keywords = keyword.kwlist\n",
    "for i in keywords:\n",
    "    print(i,end=\" \")"
   ]
  },
  {
   "cell_type": "code",
   "execution_count": 15,
   "id": "009e8022-c8d8-4bf8-8c25-dc2df9d6491c",
   "metadata": {},
   "outputs": [
    {
     "name": "stdin",
     "output_type": "stream",
     "text": [
      "Enter word if\n"
     ]
    },
    {
     "name": "stdout",
     "output_type": "stream",
     "text": [
      "Entered word is python keyword\n"
     ]
    }
   ],
   "source": [
    "# 4. Write a program that checks if a given word is a Python keyword0\n",
    "import keyword\n",
    "keywords = keyword.kwlist\n",
    "word = input(\"Enter word\")\n",
    "if word in keywords:\n",
    "    print(\"Entered word is python keyword\")\n",
    "else:\n",
    "    print(\"Entered word is not python keyword\")"
   ]
  },
  {
   "cell_type": "code",
   "execution_count": 21,
   "id": "9a142c26-4ab0-449d-ac7e-31123458a859",
   "metadata": {},
   "outputs": [
    {
     "name": "stdout",
     "output_type": "stream",
     "text": [
      "[1, 2, 'Shabab', 'Pw Skills', 'Data Science']\n",
      "[1, 2, 'Ali', 'Pw Skills', 'Data Science']\n",
      "(1, 2, 'Shabab', 'Pw Skills', 'Data Science')\n",
      "(1, 2, 'Shabab', 'Pw Skills', 'Data Science')\n"
     ]
    }
   ],
   "source": [
    "# 5. Create a list and tuple in Python, and demonstrate how attempting to change an element works differently for each\n",
    "list = [1,2,\"Shabab\",\"Pw Skills\",\"Data Science\"]\n",
    "print(list)\n",
    "list[2] = \"Ali\"\n",
    "print(list)\n",
    "tuple = (1,2,\"Shabab\",\"Pw Skills\",\"Data Science\")\n",
    "print(tuple)\n",
    "tuple[2] = \"Ali\" #it will give error because tuple is immutable\n",
    "print(tuple)"
   ]
  },
  {
   "cell_type": "code",
   "execution_count": 7,
   "id": "90629005-95e5-41a0-876b-470a08dd114a",
   "metadata": {},
   "outputs": [
    {
     "name": "stdout",
     "output_type": "stream",
     "text": [
      "Inside function:\n",
      "Mutable list: [1, 2, 3, 100]\n",
      "Immutable value: 15\n",
      "Outside function:\n",
      "Mutable list: [1, 2, 3, 100]\n",
      "Immutable value: 5\n"
     ]
    }
   ],
   "source": [
    "# 6. Write a function to demonstrate the behavior of mutable and immutable arguments0\n",
    "def fun(list, val):\n",
    "    list.append(100)\n",
    "    val += 10\n",
    "    print(\"Inside function:\")\n",
    "    print(f\"Mutable list: {list}\")\n",
    "    print(f\"Immutable value: {val}\")\n",
    "\n",
    "# Main program\n",
    "list = [1, 2, 3]\n",
    "val = 5\n",
    "\n",
    "fun(list, val)\n",
    "\n",
    "print(\"Outside function:\")\n",
    "print(f\"Mutable list: {list}\")      # Shows changes\n",
    "print(f\"Immutable value: {val}\") # No changes\n"
   ]
  },
  {
   "cell_type": "code",
   "execution_count": 8,
   "id": "45c57620-2772-4293-8aea-4e04ff66cd93",
   "metadata": {},
   "outputs": [
    {
     "name": "stdout",
     "output_type": "stream",
     "text": [
      "Inside function:\n",
      "Mutable list: [1, 2, 3, 100]\n",
      "Immutable value: 15\n",
      "Outside function:\n",
      "Mutable list: [1, 2, 3, 100]\n",
      "Immutable value: 5\n"
     ]
    }
   ],
   "source": [
    "# 7. Write a function to demonstrate the behavior of mutable and immutable arguments0\n",
    "def fun(list, val):\n",
    "    list.append(100)\n",
    "    val += 10\n",
    "    print(\"Inside function:\")\n",
    "    print(f\"Mutable list: {list}\")\n",
    "    print(f\"Immutable value: {val}\")\n",
    "\n",
    "# Main program\n",
    "list = [1, 2, 3]\n",
    "val = 5\n",
    "\n",
    "fun(list, val)\n",
    "\n",
    "print(\"Outside function:\")\n",
    "print(f\"Mutable list: {list}\")      # Shows changes\n",
    "print(f\"Immutable value: {val}\") # No changes\n"
   ]
  },
  {
   "cell_type": "code",
   "execution_count": 22,
   "id": "fdfa09df-a48b-4787-b794-379b48437cac",
   "metadata": {},
   "outputs": [
    {
     "name": "stdout",
     "output_type": "stream",
     "text": [
      "Both conditions are true.\n",
      "At least one condition is true.\n",
      "Condition is false, so NOT operator reverses it.\n"
     ]
    }
   ],
   "source": [
    "# 8. Write a program to demonstrate the use of logical operators0\n",
    "x = 10\n",
    "y = 20\n",
    "\n",
    "if x > 5 and y < 25:\n",
    "    print(\"Both conditions are true.\")\n",
    "\n",
    "if x > 15 or y < 25:\n",
    "    print(\"At least one condition is true.\")\n",
    "\n",
    "if not (x > 15):\n",
    "    print(\"Condition is false, so NOT operator reverses it.\")"
   ]
  },
  {
   "cell_type": "code",
   "execution_count": 25,
   "id": "298d1d1e-cd2b-4795-bf21-ad73f810e001",
   "metadata": {},
   "outputs": [
    {
     "name": "stdin",
     "output_type": "stream",
     "text": [
      "Enter a value:  2\n"
     ]
    },
    {
     "name": "stdout",
     "output_type": "stream",
     "text": [
      "Integer: 2, Float: 2.0, Boolean: True String:2\n"
     ]
    }
   ],
   "source": [
    "# 9.Write a Python program to convert user input from string to integer, float, and boolean types\n",
    "user_input = input(\"Enter a value: \")\n",
    "\n",
    "# Conversions\n",
    "as_integer = int(user_input)\n",
    "as_float = float(user_input)\n",
    "as_boolean = bool(user_input)\n",
    "\n",
    "print(f\"Integer: {as_integer}, Float: {as_float}, Boolean: {as_boolean}\")"
   ]
  },
  {
   "cell_type": "code",
   "execution_count": 4,
   "id": "4260392f-4dd2-49df-9d4c-19d0749f1690",
   "metadata": {},
   "outputs": [
    {
     "name": "stdout",
     "output_type": "stream",
     "text": [
      "Original list: ['1', '2', '3', '4']\n",
      "Converted to integers: [1, 2, 3, 4]\n"
     ]
    }
   ],
   "source": [
    "# 10. Write code to demonstrate type casting with list elements\n",
    "str_list = [\"1\", \"2\", \"3\", \"4\"]\n",
    "int_list = []\n",
    "for i in str_list:\n",
    "    int_list.insert(int(i),int(i))\n",
    "    \n",
    "print(\"Original list:\", str_list)\n",
    "print(\"Converted to integers:\", int_list)"
   ]
  },
  {
   "cell_type": "code",
   "execution_count": 27,
   "id": "2de25883-325b-4633-bbaa-6cfd7730d9ca",
   "metadata": {},
   "outputs": [
    {
     "name": "stdin",
     "output_type": "stream",
     "text": [
      "Enter a number:  3\n"
     ]
    },
    {
     "name": "stdout",
     "output_type": "stream",
     "text": [
      "The number is positive.\n"
     ]
    }
   ],
   "source": [
    "# 11. Write a program that checks if a number is positive, negative, or zero0\n",
    "num = float(input(\"Enter a number: \"))\n",
    "\n",
    "if num > 0:\n",
    "    print(\"The number is positive.\")\n",
    "elif num < 0:\n",
    "    print(\"The number is negative.\")\n",
    "else:\n",
    "    print(\"The number is zero.\")\n",
    "    "
   ]
  },
  {
   "cell_type": "code",
   "execution_count": 1,
   "id": "db9297f4-db8b-490b-a96d-031daf1fbd92",
   "metadata": {},
   "outputs": [
    {
     "name": "stdout",
     "output_type": "stream",
     "text": [
      "1 2 3 4 5 6 7 8 9 10 11 12 13 14 15 16 17 18 19 20 21 22 23 24 25 26 27 28 29 30 31 32 33 34 35 36 37 38 39 40 41 42 43 44 45 46 47 48 49 50 51 52 53 54 55 56 57 58 59 60 61 62 63 64 65 66 67 68 69 70 71 72 73 74 75 76 77 78 79 80 81 82 83 84 85 86 87 88 89 90 91 92 93 94 95 96 97 98 99 100 "
     ]
    }
   ],
   "source": [
    "# 12. Write a for loop to print numbers from 1 to 100\n",
    "for i in range(1, 101):\n",
    "    print(i, end=\" \")"
   ]
  },
  {
   "cell_type": "code",
   "execution_count": 30,
   "id": "17048719-1297-4992-baec-934d9dbfb175",
   "metadata": {},
   "outputs": [
    {
     "name": "stdout",
     "output_type": "stream",
     "text": [
      "Sum of all even numbers between 1 and 50: 1275\n"
     ]
    }
   ],
   "source": [
    "# 13. Write a Python program to find the sum of all even numbers between 1 and 500\n",
    "sum = 0;\n",
    "for i in range(1, 51):\n",
    "    sum+=i\n",
    "print(\"Sum of all even numbers between 1 and 50:\", sum)"
   ]
  },
  {
   "cell_type": "code",
   "execution_count": 31,
   "id": "a1a75bd8-96e2-46c5-8f94-13c4c9d8fbfb",
   "metadata": {},
   "outputs": [
    {
     "name": "stdin",
     "output_type": "stream",
     "text": [
      "Enter a string:  shabab\n"
     ]
    },
    {
     "name": "stdout",
     "output_type": "stream",
     "text": [
      "Reversed string: babahs\n"
     ]
    }
   ],
   "source": [
    "# 14. Write a program to reverse a string using a while loop0\n",
    "user_string = input(\"Enter a string: \")\n",
    "reversed_string = \"\"\n",
    "index = len(user_string) - 1\n",
    "\n",
    "while index >= 0:\n",
    "    reversed_string += user_string[index]\n",
    "    index -= 1\n",
    "\n",
    "print(\"Reversed string:\", reversed_string)"
   ]
  },
  {
   "cell_type": "code",
   "execution_count": null,
   "id": "2ba0c884-1ccb-4969-bcfa-bd926858cd23",
   "metadata": {},
   "outputs": [],
   "source": [
    "# 15. Write a Python program to calculate the factorial of a number provided by the user using a while loop.\n",
    "num = int(input(\"Enter a number: \"))\n",
    "factorial = 1\n",
    "\n",
    "if num < 0:\n",
    "    print(\"Factorial does not exist for negative numbers.\")\n",
    "else:\n",
    "    while num > 0:\n",
    "        factorial *= num\n",
    "        num -= 1\n",
    "\n",
    "    print(\"Factorial is:\", factorial)"
   ]
  },
  {
   "cell_type": "code",
   "execution_count": null,
   "id": "3e913ac1-545d-4269-affb-e7e06138fb6a",
   "metadata": {},
   "outputs": [],
   "source": []
  }
 ],
 "metadata": {
  "kernelspec": {
   "display_name": "Python 3 (ipykernel)",
   "language": "python",
   "name": "python3"
  },
  "language_info": {
   "codemirror_mode": {
    "name": "ipython",
    "version": 3
   },
   "file_extension": ".py",
   "mimetype": "text/x-python",
   "name": "python",
   "nbconvert_exporter": "python",
   "pygments_lexer": "ipython3",
   "version": "3.12.3"
  }
 },
 "nbformat": 4,
 "nbformat_minor": 5
}
